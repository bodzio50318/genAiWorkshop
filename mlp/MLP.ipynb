{
 "nbformat": 4,
 "nbformat_minor": 0,
 "metadata": {
  "colab": {
   "provenance": []
  },
  "kernelspec": {
   "name": "python3",
   "language": "python",
   "display_name": "Python 3 (ipykernel)"
  },
  "language_info": {
   "name": "python"
  }
 },
 "cells": [
  {
   "cell_type": "code",
   "execution_count": 1,
   "metadata": {
    "id": "OXslHQSplvJn",
    "ExecuteTime": {
     "end_time": "2024-04-23T07:36:35.739986100Z",
     "start_time": "2024-04-23T07:36:32.819924700Z"
    }
   },
   "outputs": [],
   "source": [
    "import torch\n",
    "import torch.nn.functional as F\n",
    "import matplotlib.pyplot as plt # for making figures\n",
    "import random\n",
    "%matplotlib inline"
   ]
  },
  {
   "cell_type": "code",
   "source": [
    "!wget -O female.csv https://api.dane.gov.pl/resources/54110,lista-imion-zenskich-w-rejestrze-pesel-stan-na-19012024-imie-pierwsze/csv\n",
    "!wget -O male.csv https://api.dane.gov.pl/resources/54109,lista-imion-meskich-w-rejestrze-pesel-stan-na-19012023-imie-pierwsze/csv\n"
   ],
   "metadata": {
    "colab": {
     "base_uri": "https://localhost:8080/"
    },
    "id": "-5IUzVBZrF_7",
    "outputId": "1fe528cc-6eaa-4e59-ee9c-81e88aee73eb",
    "ExecuteTime": {
     "end_time": "2024-04-23T07:36:37.338876400Z",
     "start_time": "2024-04-23T07:36:35.718982600Z"
    }
   },
   "execution_count": 2,
   "outputs": [
    {
     "name": "stdout",
     "output_type": "stream",
     "text": [
      "/bin/bash: warning: setlocale: LC_ALL: cannot change locale (en_US.UTF-8)\r\n",
      "--2024-04-23 09:36:35--  https://api.dane.gov.pl/resources/54110,lista-imion-zenskich-w-rejestrze-pesel-stan-na-19012024-imie-pierwsze/csv\r\n",
      "Resolving api.dane.gov.pl (api.dane.gov.pl)... 185.41.93.178\r\n",
      "Connecting to api.dane.gov.pl (api.dane.gov.pl)|185.41.93.178|:443... connected.\r\n",
      "HTTP request sent, awaiting response... 302 Found\r\n",
      "Location: https://api.dane.gov.pl/media/resources/20240126/8_-_Wykaz_imion_%C5%BCe%C5%84skich_os%C3%B3b_%C5%BCyj%C4%85cych_wg_pola_imi%C4%99_pierwsze_wyst%C4%99puj%C4%85cych_w_rejestrze_PESEL_bez_zgon%C3%B3w.csv [following]\r\n",
      "Incomplete or invalid multibyte sequence encountered\r\n",
      "--2024-04-23 09:36:36--  https://api.dane.gov.pl/media/resources/20240126/8_-_Wykaz_imion_%C5%BCe%C5%84skich_os%C3%B3b_%C5%BCyj%C4%85cych_wg_pola_imi%C4%99_pierwsze_wyst%C4%99puj%C4%85cych_w_rejestrze_PESEL_bez_zgon%C3%B3w.csv\r\n",
      "Reusing existing connection to api.dane.gov.pl:443.\r\n",
      "HTTP request sent, awaiting response... 200 OK\r\n",
      "Length: 469975 (459K) [application/octet-stream]\r\n",
      "Saving to: 'female.csv'\r\n",
      "\r\n",
      "female.csv          100%[===================>] 458.96K  1.93MB/s    in 0.2s    \r\n",
      "\r\n",
      "2024-04-23 09:36:36 (1.93 MB/s) - 'female.csv' saved [469975/469975]\r\n",
      "\r\n",
      "/bin/bash: warning: setlocale: LC_ALL: cannot change locale (en_US.UTF-8)\r\n",
      "--2024-04-23 09:36:36--  https://api.dane.gov.pl/resources/54109,lista-imion-meskich-w-rejestrze-pesel-stan-na-19012023-imie-pierwsze/csv\r\n",
      "Resolving api.dane.gov.pl (api.dane.gov.pl)... 185.41.93.178\r\n",
      "Connecting to api.dane.gov.pl (api.dane.gov.pl)|185.41.93.178|:443... connected.\r\n",
      "HTTP request sent, awaiting response... 302 Found\r\n",
      "Location: https://api.dane.gov.pl/media/resources/20240126/8_-_Wykaz_imion_m%C4%99skich_os%C3%B3b_%C5%BCyj%C4%85cych_wg_pola_imi%C4%99_pierwsze_wyst%C4%99puj%C4%85cych_w_rejestrze_PESEL_bez_zgon%C3%B3w.csv [following]\r\n",
      "Incomplete or invalid multibyte sequence encountered\r\n",
      "--2024-04-23 09:36:36--  https://api.dane.gov.pl/media/resources/20240126/8_-_Wykaz_imion_m%C4%99skich_os%C3%B3b_%C5%BCyj%C4%85cych_wg_pola_imi%C4%99_pierwsze_wyst%C4%99puj%C4%85cych_w_rejestrze_PESEL_bez_zgon%C3%B3w.csv\r\n",
      "Reusing existing connection to api.dane.gov.pl:443.\r\n",
      "HTTP request sent, awaiting response... 200 OK\r\n",
      "Length: 866792 (846K) [application/octet-stream]\r\n",
      "Saving to: 'male.csv'\r\n",
      "\r\n",
      "male.csv            100%[===================>] 846.48K  2.75MB/s    in 0.3s    \r\n",
      "\r\n",
      "2024-04-23 09:36:37 (2.75 MB/s) - 'male.csv' saved [866792/866792]\r\n",
      "\r\n"
     ]
    }
   ]
  },
  {
   "cell_type": "code",
   "source": [
    "def filter_names_by_threshold(filename, threshold):\n",
    "    names = []\n",
    "    with open(filename, 'r', encoding='utf8') as file:\n",
    "        lines = file.read().splitlines()\n",
    "        for line in lines[1:]:\n",
    "            entry = line.split(\",\")\n",
    "            if int(entry[2]) > threshold:\n",
    "                names.append(entry[0])\n",
    "    return names\n",
    "\n",
    "\n",
    "\n",
    "femaleNames = filter_names_by_threshold('female.csv', 20)\n",
    "print(\"Female names number with a number greater than 100: \" + str(len(femaleNames)))\n",
    "print(femaleNames[:8])\n",
    "\n",
    "maleNames = filter_names_by_threshold('male.csv', 20)\n",
    "print(\"Male names number with a number greater than 100: \" + str(len(maleNames)))\n",
    "print(maleNames[:8])"
   ],
   "metadata": {
    "colab": {
     "base_uri": "https://localhost:8080/"
    },
    "id": "KBTFYCeCt6ZR",
    "outputId": "1b6224a7-1436-4177-ae9c-239baafc5b96",
    "ExecuteTime": {
     "end_time": "2024-04-23T07:36:37.450864600Z",
     "start_time": "2024-04-23T07:36:37.348885900Z"
    }
   },
   "execution_count": 3,
   "outputs": [
    {
     "name": "stdout",
     "output_type": "stream",
     "text": [
      "Female names number with a number greater than 100: 3708\n",
      "['ANNA', 'KATARZYNA', 'MARIA', 'MAŁGORZATA', 'AGNIESZKA', 'BARBARA', 'EWA', 'MAGDALENA']\n",
      "Male names number with a number greater than 100: 5269\n",
      "['PIOTR', 'KRZYSZTOF', 'TOMASZ', 'ANDRZEJ', 'PAWEŁ', 'MICHAŁ', 'JAN', 'MARCIN']\n"
     ]
    }
   ]
  },
  {
   "cell_type": "code",
   "source": [
    "file2 = open('male.csv', 'r',encoding='utf8').read().splitlines()\n",
    "maleNames=file2[1:]\n",
    "maleNames=[entry.split(\",\")[0] for entry in maleNames]\n",
    "print(\"Male names number: \"+str(len(maleNames)))\n",
    "maleNames[:8]"
   ],
   "metadata": {
    "colab": {
     "base_uri": "https://localhost:8080/"
    },
    "id": "QtLQbM8a78Td",
    "outputId": "9efd9033-bc5c-4aec-d1be-6474087e40b5",
    "ExecuteTime": {
     "end_time": "2024-04-23T07:36:37.521863Z",
     "start_time": "2024-04-23T07:36:37.449863Z"
    }
   },
   "execution_count": 4,
   "outputs": [
    {
     "name": "stdout",
     "output_type": "stream",
     "text": [
      "Male names number: 37053\n"
     ]
    },
    {
     "data": {
      "text/plain": "['PIOTR', 'KRZYSZTOF', 'TOMASZ', 'ANDRZEJ', 'PAWEŁ', 'MICHAŁ', 'JAN', 'MARCIN']"
     },
     "execution_count": 4,
     "metadata": {},
     "output_type": "execute_result"
    }
   ]
  },
  {
   "cell_type": "code",
   "source": [
    "def has_polish_or_english_chars(name):\n",
    "    polish_chars = 'ĄĆĘŁŃÓŚŹŻABCDEFGHIJKLMNOPQRSTUVWXYZ'\n",
    "    return all(char in polish_chars for char in name)\n",
    "\n",
    "#source=femaleNames+maleNames\n",
    "source=femaleNames\n",
    "print(\"Combined names number: \"+str(len(source)))\n",
    "#Lets filter out names with spaces because those can be aproximated as 2 names\n",
    "\n",
    "words= list(filter(lambda x: ' ' not in x, source))\n",
    "print(\"Filtered names number: \"+str(len(words)))\n",
    "words= list(filter(lambda x: has_polish_or_english_chars(x), words))\n",
    "print(\"Filtered names number: \"+str(len(words)))\n",
    "random.shuffle(words)\n",
    "\n",
    "words[:10]\n",
    "#wierdNames=list(filter(lambda x: ' ' in x, source))\n",
    "#wierdNames[:8]"
   ],
   "metadata": {
    "colab": {
     "base_uri": "https://localhost:8080/"
    },
    "id": "updJBjxlwSFL",
    "outputId": "c0d93146-7a92-461d-ee79-1ce09109ed32",
    "ExecuteTime": {
     "end_time": "2024-04-23T07:36:37.522864400Z",
     "start_time": "2024-04-23T07:36:37.487866800Z"
    }
   },
   "execution_count": 5,
   "outputs": [
    {
     "name": "stdout",
     "output_type": "stream",
     "text": [
      "Combined names number: 3708\n",
      "Filtered names number: 3646\n",
      "Filtered names number: 3517\n"
     ]
    },
    {
     "data": {
      "text/plain": "['ZOSIA',\n 'LIORA',\n 'VIALETA',\n 'SVIATOSLAVA',\n 'SYLVIA',\n 'SHRADDHA',\n 'SZARLOTA',\n 'LIEN',\n 'NISHA',\n 'GAYA']"
     },
     "execution_count": 5,
     "metadata": {},
     "output_type": "execute_result"
    }
   ]
  },
  {
   "cell_type": "code",
   "source": [
    "# build the vocabulary of characters and mappings to/from integers\n",
    "chars = sorted(list(set(''.join(words))))\n",
    "\n",
    "stoi = {s:i+1 for i,s in enumerate(chars)}\n",
    "stoi['.'] = 0\n",
    "itos = {i:s for s,i in stoi.items()}\n",
    "print(\"itos: \",itos)\n",
    "print(\"stoi: \",stoi)\n",
    "VOCAB_SIZE=len(chars)+1\n",
    "print(\"VOCAB_SIZE: \",VOCAB_SIZE)"
   ],
   "metadata": {
    "colab": {
     "base_uri": "https://localhost:8080/"
    },
    "id": "_uWGCCWu8wQj",
    "outputId": "54f16863-1704-4f29-f03e-5edd37fcc8a9",
    "ExecuteTime": {
     "end_time": "2024-04-23T07:38:40.492931100Z",
     "start_time": "2024-04-23T07:38:40.421934300Z"
    }
   },
   "execution_count": 19,
   "outputs": [
    {
     "name": "stdout",
     "output_type": "stream",
     "text": [
      "itos:  {1: 'A', 2: 'B', 3: 'C', 4: 'D', 5: 'E', 6: 'F', 7: 'G', 8: 'H', 9: 'I', 10: 'J', 11: 'K', 12: 'L', 13: 'M', 14: 'N', 15: 'O', 16: 'P', 17: 'Q', 18: 'R', 19: 'S', 20: 'T', 21: 'U', 22: 'V', 23: 'W', 24: 'X', 25: 'Y', 26: 'Z', 27: 'Ó', 28: 'Ą', 29: 'Ę', 30: 'Ł', 31: 'Ń', 32: 'Ś', 33: 'Ż', 0: '.'}\n",
      "stoi:  {'A': 1, 'B': 2, 'C': 3, 'D': 4, 'E': 5, 'F': 6, 'G': 7, 'H': 8, 'I': 9, 'J': 10, 'K': 11, 'L': 12, 'M': 13, 'N': 14, 'O': 15, 'P': 16, 'Q': 17, 'R': 18, 'S': 19, 'T': 20, 'U': 21, 'V': 22, 'W': 23, 'X': 24, 'Y': 25, 'Z': 26, 'Ó': 27, 'Ą': 28, 'Ę': 29, 'Ł': 30, 'Ń': 31, 'Ś': 32, 'Ż': 33, '.': 0}\n",
      "VOCAB_SIZE:  34\n"
     ]
    }
   ]
  },
  {
   "cell_type": "code",
   "source": [
    "# hyperparameters\n",
    "BLOCK_SIZE = 3\n",
    "BATCH_SIZE = 32\n",
    "EMBEDING_DIMENSION=10\n",
    "HIDDEN_LAYER_SIZE=200\n",
    "\n",
    "def build_dataset(words):\n",
    "  X, Y = [], []\n",
    "  for w in words:\n",
    "\n",
    "    #print(w)\n",
    "    context = [0] * BLOCK_SIZE\n",
    "    for ch in w + '.':\n",
    "      ix = stoi[ch]\n",
    "      X.append(context)\n",
    "      Y.append(ix)\n",
    "      #print(''.join(itos[i] for i in context), '--->', itos[ix])\n",
    "      context = context[1:] + [ix] # crop and append\n",
    "\n",
    "  X = torch.tensor(X)\n",
    "  Y = torch.tensor(Y)\n",
    "  print(X.shape, Y.shape)\n",
    "  return X, Y\n",
    "\n",
    "import random\n",
    "random.seed(42)\n",
    "random.shuffle(words)\n",
    "n1 = int(0.8*len(words))\n",
    "n2 = int(0.9*len(words))\n",
    "\n",
    "Xtr, Ytr = build_dataset(words[:n1])\n",
    "Xdev, Ydev = build_dataset(words[n1:n2])\n",
    "Xte, Yte = build_dataset(words[n2:])"
   ],
   "metadata": {
    "colab": {
     "base_uri": "https://localhost:8080/"
    },
    "id": "-KlSLndQ9zLe",
    "outputId": "71d5a9cf-70d5-4fb7-ba59-ebda2b93df70",
    "ExecuteTime": {
     "end_time": "2024-04-23T07:36:37.632868Z",
     "start_time": "2024-04-23T07:36:37.537868700Z"
    }
   },
   "execution_count": 7,
   "outputs": [
    {
     "name": "stdout",
     "output_type": "stream",
     "text": [
      "torch.Size([20258, 3]) torch.Size([20258])\n",
      "torch.Size([2597, 3]) torch.Size([2597])\n",
      "torch.Size([2608, 3]) torch.Size([2608])\n"
     ]
    }
   ]
  },
  {
   "cell_type": "code",
   "source": [
    "g = torch.Generator().manual_seed(2147483647) # for reproducibility\n",
    "C = torch.randn((VOCAB_SIZE, EMBEDING_DIMENSION), generator=g)\n",
    "W1 = torch.randn((EMBEDING_DIMENSION*BLOCK_SIZE, HIDDEN_LAYER_SIZE), generator=g)\n",
    "b1 = torch.randn(HIDDEN_LAYER_SIZE, generator=g)\n",
    "W2 = torch.randn((HIDDEN_LAYER_SIZE, VOCAB_SIZE), generator=g)\n",
    "b2 = torch.randn(VOCAB_SIZE, generator=g)\n",
    "parameters = [C, W1, b1, W2, b2]"
   ],
   "metadata": {
    "id": "fZ_MjI2C98rr",
    "ExecuteTime": {
     "end_time": "2024-04-23T07:36:37.699863600Z",
     "start_time": "2024-04-23T07:36:37.607866200Z"
    }
   },
   "execution_count": 8,
   "outputs": []
  },
  {
   "cell_type": "code",
   "source": [
    "sum(p.nelement() for p in parameters) # number of parameters in total"
   ],
   "metadata": {
    "colab": {
     "base_uri": "https://localhost:8080/"
    },
    "id": "sKlzS-eU9_ft",
    "outputId": "c320821c-f374-4feb-9a80-04fd32e33853",
    "ExecuteTime": {
     "end_time": "2024-04-23T07:36:37.699863600Z",
     "start_time": "2024-04-23T07:36:37.657864300Z"
    }
   },
   "execution_count": 9,
   "outputs": [
    {
     "data": {
      "text/plain": "13374"
     },
     "execution_count": 9,
     "metadata": {},
     "output_type": "execute_result"
    }
   ]
  },
  {
   "cell_type": "code",
   "source": [
    "for p in parameters:\n",
    "  p.requires_grad = True"
   ],
   "metadata": {
    "id": "JM0vPN61-EAI",
    "ExecuteTime": {
     "end_time": "2024-04-23T07:36:37.710865500Z",
     "start_time": "2024-04-23T07:36:37.658865300Z"
    }
   },
   "execution_count": 10,
   "outputs": []
  },
  {
   "cell_type": "code",
   "source": [
    "lre = torch.linspace(-3, 0, 1000)\n",
    "lrs = 10**lre"
   ],
   "metadata": {
    "id": "SpSS_00R-F0H",
    "ExecuteTime": {
     "end_time": "2024-04-23T07:36:37.710865500Z",
     "start_time": "2024-04-23T07:36:37.658865300Z"
    }
   },
   "execution_count": 11,
   "outputs": []
  },
  {
   "cell_type": "code",
   "source": [
    "lri = []\n",
    "lossi = []\n",
    "stepi = []"
   ],
   "metadata": {
    "id": "b5itaxp5-G5V",
    "ExecuteTime": {
     "end_time": "2024-04-23T07:36:37.710865500Z",
     "start_time": "2024-04-23T07:36:37.658865300Z"
    }
   },
   "execution_count": 12,
   "outputs": []
  },
  {
   "cell_type": "code",
   "source": [
    "for i in range(200000):\n",
    "\n",
    "  # minibatch construct\n",
    "  ix = torch.randint(0, Xtr.shape[0], (BATCH_SIZE,))\n",
    "\n",
    "  # forward pass\n",
    "  emb = C[Xtr[ix]] # (32, 3, 10)\n",
    "  h = torch.tanh(emb.view(-1, EMBEDING_DIMENSION*BLOCK_SIZE) @ W1 + b1) # (32, 100)\n",
    "  logits = h @ W2 + b2 # (32, 34)\n",
    "\n",
    "  # ugly cross entropy\n",
    "  # counts = logits.exp()\n",
    "  # prob = counts / counts.sum(1, keepdims=True)\n",
    "  # loss = -prob[torch.arange(32), Y].log().mean()\n",
    "\n",
    "  loss = F.cross_entropy(logits, Ytr[ix])\n",
    "\n",
    "\n",
    "\n",
    "  #print(loss.item())\n",
    "\n",
    "  # backward pass\n",
    "  for p in parameters:\n",
    "    p.grad = None\n",
    "  loss.backward()\n",
    "\n",
    "  # update\n",
    "  #lr = lrs[i]\n",
    "  lr = 0.1 if i < 100000 else 0.01\n",
    "  for p in parameters:\n",
    "    p.data += -lr * p.grad\n",
    "\n",
    "  # track stats\n",
    "  #lri.append(lre[i])\n",
    "  stepi.append(i)\n",
    "  lossi.append(loss.log10().item())\n",
    "\n",
    "#print(loss.item())"
   ],
   "metadata": {
    "id": "sy_WwHne-KGT",
    "ExecuteTime": {
     "end_time": "2024-04-23T07:38:39.834072700Z",
     "start_time": "2024-04-23T07:36:37.658865300Z"
    }
   },
   "execution_count": 13,
   "outputs": []
  },
  {
   "cell_type": "code",
   "source": [
    "plt.plot(stepi, lossi)"
   ],
   "metadata": {
    "colab": {
     "base_uri": "https://localhost:8080/",
     "height": 447
    },
    "id": "a_zqC8Zv-L3G",
    "outputId": "2e8d13d2-2e44-416e-b8f3-0193fe05283a",
    "ExecuteTime": {
     "end_time": "2024-04-23T07:38:40.334915300Z",
     "start_time": "2024-04-23T07:38:39.871957Z"
    }
   },
   "execution_count": 14,
   "outputs": [
    {
     "data": {
      "text/plain": "[<matplotlib.lines.Line2D at 0x7fc13a1ab040>]"
     },
     "execution_count": 14,
     "metadata": {},
     "output_type": "execute_result"
    },
    {
     "data": {
      "text/plain": "<Figure size 640x480 with 1 Axes>",
      "image/png": "[encoded data removed]"
     },
     "metadata": {},
     "output_type": "display_data"
    }
   ]
  },
  {
   "cell_type": "code",
   "source": [
    "# training loss\n",
    "emb = C[Xtr] # (32, 3, 2)\n",
    "h = torch.tanh(emb.view(-1, 30) @ W1 + b1) # (32, 100)\n",
    "logits = h @ W2 + b2 # (32, 27)\n",
    "loss = F.cross_entropy(logits, Ytr)\n",
    "loss"
   ],
   "metadata": {
    "colab": {
     "base_uri": "https://localhost:8080/"
    },
    "id": "qJ2I5r_0A7-N",
    "outputId": "6d087fee-be00-479d-88ae-4a14b82bc2c5",
    "ExecuteTime": {
     "end_time": "2024-04-23T07:38:40.461931200Z",
     "start_time": "2024-04-23T07:38:40.338920500Z"
    }
   },
   "execution_count": 15,
   "outputs": [
    {
     "data": {
      "text/plain": "tensor(1.5548, grad_fn=<NllLossBackward0>)"
     },
     "execution_count": 15,
     "metadata": {},
     "output_type": "execute_result"
    }
   ]
  },
  {
   "cell_type": "code",
   "source": [
    "# validation loss\n",
    "emb = C[Xdev] # (32, 3, 2)\n",
    "h = torch.tanh(emb.view(-1, 30) @ W1 + b1) # (32, 100)\n",
    "logits = h @ W2 + b2 # (32, 27)\n",
    "loss = F.cross_entropy(logits, Ydev)\n",
    "loss"
   ],
   "metadata": {
    "colab": {
     "base_uri": "https://localhost:8080/"
    },
    "id": "tt3lTEhlA_oe",
    "outputId": "e0fb661f-cdc9-4480-c393-3a34c4144ead",
    "ExecuteTime": {
     "end_time": "2024-04-23T07:38:40.461931200Z",
     "start_time": "2024-04-23T07:38:40.387932200Z"
    }
   },
   "execution_count": 16,
   "outputs": [
    {
     "data": {
      "text/plain": "tensor(2.3819, grad_fn=<NllLossBackward0>)"
     },
     "execution_count": 16,
     "metadata": {},
     "output_type": "execute_result"
    }
   ]
  },
  {
   "cell_type": "code",
   "source": [
    "# test loss\n",
    "emb = C[Xte] # (32, 3, 2)\n",
    "h = torch.tanh(emb.view(-1, 30) @ W1 + b1) # (32, 100)\n",
    "logits = h @ W2 + b2 # (32, 27)\n",
    "loss = F.cross_entropy(logits, Yte)\n",
    "loss"
   ],
   "metadata": {
    "colab": {
     "base_uri": "https://localhost:8080/"
    },
    "id": "WEhqMIigBCyB",
    "outputId": "2c257880-64b9-43df-f02c-2443c686cc79",
    "ExecuteTime": {
     "end_time": "2024-04-23T07:38:40.462932400Z",
     "start_time": "2024-04-23T07:38:40.387932200Z"
    }
   },
   "execution_count": 17,
   "outputs": [
    {
     "data": {
      "text/plain": "tensor(2.3874, grad_fn=<NllLossBackward0>)"
     },
     "execution_count": 17,
     "metadata": {},
     "output_type": "execute_result"
    }
   ]
  },
  {
   "cell_type": "code",
   "source": [
    "# sample from the model\n",
    "g = torch.Generator()#.manual_seed(2147483647 + 10)\n",
    "\n",
    "for _ in range(20):\n",
    "\n",
    "    out = []\n",
    "    context = [0] * BLOCK_SIZE # initialize with all ...\n",
    "    while True:\n",
    "      emb = C[torch.tensor([context])] # (1,block_size,d)\n",
    "      h = torch.tanh(emb.view(1, -1) @ W1 + b1)\n",
    "      logits = h @ W2 + b2\n",
    "      probs = F.softmax(logits, dim=1)\n",
    "      ix = torch.multinomial(probs, num_samples=1, generator=g).item()\n",
    "      context = context[1:] + [ix]\n",
    "      out.append(ix)\n",
    "      if ix == 0:\n",
    "        break\n",
    "\n",
    "    print(''.join(itos[i] for i in out))\n"
   ],
   "metadata": {
    "colab": {
     "base_uri": "https://localhost:8080/"
    },
    "id": "nkFPb-jmBKRF",
    "outputId": "8ae6bf4e-45b3-485c-a323-115dc5553d80",
    "ExecuteTime": {
     "end_time": "2024-04-23T07:38:40.462932400Z",
     "start_time": "2024-04-23T07:38:40.387932200Z"
    }
   },
   "execution_count": 18,
   "outputs": [
    {
     "name": "stdout",
     "output_type": "stream",
     "text": [
      "CYNTA.\n",
      "EMILI.\n",
      "HINE.\n",
      "DANNA.\n",
      "VAAROMUALERIKI.\n",
      "AMAIETA.\n",
      "STAZIRA.\n",
      "HIBA.\n",
      "MIRA.\n",
      "VALENA.\n",
      "TETI.\n",
      "NICA.\n",
      "NIKA.\n",
      "GABINA.\n",
      "MER.\n",
      "EVA.\n",
      "AMALI.\n",
      "MOR.\n",
      "JANIFERUZINA.\n",
      "ASTASCHAROSLAVA.\n"
     ]
    }
   ]
  }
 ]
}
