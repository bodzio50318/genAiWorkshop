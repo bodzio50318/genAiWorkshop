{
  "nbformat": 4,
  "nbformat_minor": 0,
  "metadata": {
    "colab": {
      "provenance": []
    },
    "kernelspec": {
      "name": "python3",
      "display_name": "Python 3"
    },
    "language_info": {
      "name": "python"
    }
  },
  "cells": [
    {
      "cell_type": "code",
      "execution_count": 206,
      "metadata": {
        "id": "OXslHQSplvJn"
      },
      "outputs": [],
      "source": [
        "import torch\n",
        "import torch.nn.functional as F\n",
        "import matplotlib.pyplot as plt # for making figures\n",
        "import random\n",
        "%matplotlib inline"
      ]
    },
    {
      "cell_type": "code",
      "source": [
        "!wget -O female.csv https://api.dane.gov.pl/resources/54110,lista-imion-zenskich-w-rejestrze-pesel-stan-na-19012024-imie-pierwsze/csv\n",
        "!wget -O male.csv https://api.dane.gov.pl/resources/54109,lista-imion-meskich-w-rejestrze-pesel-stan-na-19012023-imie-pierwsze/csv\n"
      ],
      "metadata": {
        "colab": {
          "base_uri": "https://localhost:8080/"
        },
        "id": "-5IUzVBZrF_7",
        "outputId": "1fe528cc-6eaa-4e59-ee9c-81e88aee73eb"
      },
      "execution_count": 207,
      "outputs": [
        {
          "output_type": "stream",
          "name": "stdout",
          "text": [
            "--2024-04-03 13:38:46--  https://api.dane.gov.pl/resources/54110,lista-imion-zenskich-w-rejestrze-pesel-stan-na-19012024-imie-pierwsze/csv\n",
            "Resolving api.dane.gov.pl (api.dane.gov.pl)... 185.41.93.178\n",
            "Connecting to api.dane.gov.pl (api.dane.gov.pl)|185.41.93.178|:443... connected.\n",
            "HTTP request sent, awaiting response... 302 Found\n",
            "Location: https://api.dane.gov.pl/media/resources/20240126/8_-_Wykaz_imion_%C5%BCe%C5%84skich_os%C3%B3b_%C5%BCyj%C4%85cych_wg_pola_imi%C4%99_pierwsze_wyst%C4%99puj%C4%85cych_w_rejestrze_PESEL_bez_zgon%C3%B3w.csv [following]\n",
            "--2024-04-03 13:38:47--  https://api.dane.gov.pl/media/resources/20240126/8_-_Wykaz_imion_%C5%BCe%C5%84skich_os%C3%B3b_%C5%BCyj%C4%85cych_wg_pola_imi%C4%99_pierwsze_wyst%C4%99puj%C4%85cych_w_rejestrze_PESEL_bez_zgon%C3%B3w.csv\n",
            "Reusing existing connection to api.dane.gov.pl:443.\n",
            "HTTP request sent, awaiting response... 200 OK\n",
            "Length: 469975 (459K) [application/octet-stream]\n",
            "Saving to: ‘female.csv’\n",
            "\n",
            "female.csv          100%[===================>] 458.96K   364KB/s    in 1.3s    \n",
            "\n",
            "2024-04-03 13:38:48 (364 KB/s) - ‘female.csv’ saved [469975/469975]\n",
            "\n",
            "--2024-04-03 13:38:49--  https://api.dane.gov.pl/resources/54109,lista-imion-meskich-w-rejestrze-pesel-stan-na-19012023-imie-pierwsze/csv\n",
            "Resolving api.dane.gov.pl (api.dane.gov.pl)... 185.41.93.178\n",
            "Connecting to api.dane.gov.pl (api.dane.gov.pl)|185.41.93.178|:443... connected.\n",
            "HTTP request sent, awaiting response... 302 Found\n",
            "Location: https://api.dane.gov.pl/media/resources/20240126/8_-_Wykaz_imion_m%C4%99skich_os%C3%B3b_%C5%BCyj%C4%85cych_wg_pola_imi%C4%99_pierwsze_wyst%C4%99puj%C4%85cych_w_rejestrze_PESEL_bez_zgon%C3%B3w.csv [following]\n",
            "--2024-04-03 13:38:49--  https://api.dane.gov.pl/media/resources/20240126/8_-_Wykaz_imion_m%C4%99skich_os%C3%B3b_%C5%BCyj%C4%85cych_wg_pola_imi%C4%99_pierwsze_wyst%C4%99puj%C4%85cych_w_rejestrze_PESEL_bez_zgon%C3%B3w.csv\n",
            "Reusing existing connection to api.dane.gov.pl:443.\n",
            "HTTP request sent, awaiting response... 200 OK\n",
            "Length: 866792 (846K) [application/octet-stream]\n",
            "Saving to: ‘male.csv’\n",
            "\n",
            "male.csv            100%[===================>] 846.48K   379KB/s    in 2.2s    \n",
            "\n",
            "2024-04-03 13:38:51 (379 KB/s) - ‘male.csv’ saved [866792/866792]\n",
            "\n"
          ]
        }
      ]
    },
    {
      "cell_type": "code",
      "source": [
        "def filter_names_by_threshold(filename, threshold):\n",
        "    names = []\n",
        "    with open(filename, 'r', encoding='utf8') as file:\n",
        "        lines = file.read().splitlines()\n",
        "        for line in lines[1:]:\n",
        "            entry = line.split(\",\")\n",
        "            if int(entry[2]) > threshold:\n",
        "                names.append(entry[0])\n",
        "    return names\n",
        "\n",
        "\n",
        "\n",
        "femaleNames = filter_names_by_threshold('female.csv', 20)\n",
        "print(\"Female names number with a number greater than 100: \" + str(len(femaleNames)))\n",
        "print(femaleNames[:8])\n",
        "\n",
        "maleNames = filter_names_by_threshold('male.csv', 20)\n",
        "print(\"Male names number with a number greater than 100: \" + str(len(maleNames)))\n",
        "print(maleNames[:8])"
      ],
      "metadata": {
        "colab": {
          "base_uri": "https://localhost:8080/"
        },
        "id": "KBTFYCeCt6ZR",
        "outputId": "1b6224a7-1436-4177-ae9c-239baafc5b96"
      },
      "execution_count": 208,
      "outputs": [
        {
          "output_type": "stream",
          "name": "stdout",
          "text": [
            "Female names number with a number greater than 100: 3708\n",
            "['ANNA', 'KATARZYNA', 'MARIA', 'MAŁGORZATA', 'AGNIESZKA', 'BARBARA', 'EWA', 'MAGDALENA']\n",
            "Male names number with a number greater than 100: 5269\n",
            "['PIOTR', 'KRZYSZTOF', 'TOMASZ', 'ANDRZEJ', 'PAWEŁ', 'MICHAŁ', 'JAN', 'MARCIN']\n"
          ]
        }
      ]
    },
    {
      "cell_type": "code",
      "source": [
        "file2 = open('male.csv', 'r',encoding='utf8').read().splitlines()\n",
        "maleNames=file2[1:]\n",
        "maleNames=[entry.split(\",\")[0] for entry in maleNames]\n",
        "print(\"Male names number: \"+str(len(maleNames)))\n",
        "maleNames[:8]"
      ],
      "metadata": {
        "colab": {
          "base_uri": "https://localhost:8080/"
        },
        "id": "QtLQbM8a78Td",
        "outputId": "9efd9033-bc5c-4aec-d1be-6474087e40b5"
      },
      "execution_count": 209,
      "outputs": [
        {
          "output_type": "stream",
          "name": "stdout",
          "text": [
            "Male names number: 37053\n"
          ]
        },
        {
          "output_type": "execute_result",
          "data": {
            "text/plain": [
              "['PIOTR', 'KRZYSZTOF', 'TOMASZ', 'ANDRZEJ', 'PAWEŁ', 'MICHAŁ', 'JAN', 'MARCIN']"
            ]
          },
          "metadata": {},
          "execution_count": 209
        }
      ]
    },
    {
      "cell_type": "code",
      "source": [
        "def has_polish_or_english_chars(name):\n",
        "    polish_chars = 'ĄĆĘŁŃÓŚŹŻABCDEFGHIJKLMNOPQRSTUVWXYZ'\n",
        "    return all(char in polish_chars for char in name)\n",
        "\n",
        "#source=femaleNames+maleNames\n",
        "source=femaleNames\n",
        "print(\"Combined names number: \"+str(len(source)))\n",
        "#Lets filter out names with spaces because those can be aproximated as 2 names\n",
        "\n",
        "words= list(filter(lambda x: ' ' not in x, source))\n",
        "print(\"Filtered names number: \"+str(len(words)))\n",
        "words= list(filter(lambda x: has_polish_or_english_chars(x), words))\n",
        "print(\"Filtered names number: \"+str(len(words)))\n",
        "random.shuffle(words)\n",
        "\n",
        "words[:10]\n",
        "#wierdNames=list(filter(lambda x: ' ' in x, source))\n",
        "#wierdNames[:8]"
      ],
      "metadata": {
        "colab": {
          "base_uri": "https://localhost:8080/"
        },
        "id": "updJBjxlwSFL",
        "outputId": "c0d93146-7a92-461d-ee79-1ce09109ed32"
      },
      "execution_count": 210,
      "outputs": [
        {
          "output_type": "stream",
          "name": "stdout",
          "text": [
            "Combined names number: 3708\n",
            "Filtered names number: 3646\n",
            "Filtered names number: 3517\n"
          ]
        },
        {
          "output_type": "execute_result",
          "data": {
            "text/plain": [
              "['AUGUSTYNA',\n",
              " 'KAMILLA',\n",
              " 'MELEK',\n",
              " 'BOHDANNA',\n",
              " 'ESTER',\n",
              " 'LUDOMIRA',\n",
              " 'EMINA',\n",
              " 'SALOMEA',\n",
              " 'CASEY',\n",
              " 'PATRIZIA']"
            ]
          },
          "metadata": {},
          "execution_count": 210
        }
      ]
    },
    {
      "cell_type": "code",
      "source": [
        "# build the vocabulary of characters and mappings to/from integers\n",
        "chars = sorted(list(set(''.join(words))))\n",
        "\n",
        "stoi = {s:i+1 for i,s in enumerate(chars)}\n",
        "stoi['.'] = 0\n",
        "itos = {i:s for s,i in stoi.items()}\n",
        "print(itos)\n",
        "VOCAB_SIZE=len(chars)+1\n",
        "print(VOCAB_SIZE)"
      ],
      "metadata": {
        "colab": {
          "base_uri": "https://localhost:8080/"
        },
        "id": "_uWGCCWu8wQj",
        "outputId": "54f16863-1704-4f29-f03e-5edd37fcc8a9"
      },
      "execution_count": 211,
      "outputs": [
        {
          "output_type": "stream",
          "name": "stdout",
          "text": [
            "{1: 'A', 2: 'B', 3: 'C', 4: 'D', 5: 'E', 6: 'F', 7: 'G', 8: 'H', 9: 'I', 10: 'J', 11: 'K', 12: 'L', 13: 'M', 14: 'N', 15: 'O', 16: 'P', 17: 'Q', 18: 'R', 19: 'S', 20: 'T', 21: 'U', 22: 'V', 23: 'W', 24: 'X', 25: 'Y', 26: 'Z', 27: 'Ó', 28: 'Ą', 29: 'Ę', 30: 'Ł', 31: 'Ń', 32: 'Ś', 33: 'Ż', 0: '.'}\n",
            "34\n"
          ]
        }
      ]
    },
    {
      "cell_type": "code",
      "source": [
        "# build the dataset\n",
        "block_size = 3 # context length: how many characters do we take to predict the next one?\n",
        "\n",
        "def build_dataset(words):\n",
        "  X, Y = [], []\n",
        "  for w in words:\n",
        "\n",
        "    #print(w)\n",
        "    context = [0] * block_size\n",
        "    for ch in w + '.':\n",
        "      ix = stoi[ch]\n",
        "      X.append(context)\n",
        "      Y.append(ix)\n",
        "      #print(''.join(itos[i] for i in context), '--->', itos[ix])\n",
        "      context = context[1:] + [ix] # crop and append\n",
        "\n",
        "  X = torch.tensor(X)\n",
        "  Y = torch.tensor(Y)\n",
        "  print(X.shape, Y.shape)\n",
        "  return X, Y\n",
        "\n",
        "import random\n",
        "random.seed(42)\n",
        "random.shuffle(words)\n",
        "n1 = int(0.8*len(words))\n",
        "n2 = int(0.9*len(words))\n",
        "\n",
        "Xtr, Ytr = build_dataset(words[:n1])\n",
        "Xdev, Ydev = build_dataset(words[n1:n2])\n",
        "Xte, Yte = build_dataset(words[n2:])"
      ],
      "metadata": {
        "colab": {
          "base_uri": "https://localhost:8080/"
        },
        "id": "-KlSLndQ9zLe",
        "outputId": "71d5a9cf-70d5-4fb7-ba59-ebda2b93df70"
      },
      "execution_count": 212,
      "outputs": [
        {
          "output_type": "stream",
          "name": "stdout",
          "text": [
            "torch.Size([20319, 3]) torch.Size([20319])\n",
            "torch.Size([2543, 3]) torch.Size([2543])\n",
            "torch.Size([2601, 3]) torch.Size([2601])\n"
          ]
        }
      ]
    },
    {
      "cell_type": "code",
      "source": [
        "BATCH_SIZE = 32\n",
        "g = torch.Generator().manual_seed(2147483647) # for reproducibility\n",
        "C = torch.randn((VOCAB_SIZE, 10), generator=g)\n",
        "W1 = torch.randn((30, 200), generator=g)\n",
        "b1 = torch.randn(200, generator=g)\n",
        "W2 = torch.randn((200, VOCAB_SIZE), generator=g)\n",
        "b2 = torch.randn(VOCAB_SIZE, generator=g)\n",
        "parameters = [C, W1, b1, W2, b2]"
      ],
      "metadata": {
        "id": "fZ_MjI2C98rr"
      },
      "execution_count": 213,
      "outputs": []
    },
    {
      "cell_type": "code",
      "source": [
        "sum(p.nelement() for p in parameters) # number of parameters in total"
      ],
      "metadata": {
        "colab": {
          "base_uri": "https://localhost:8080/"
        },
        "id": "sKlzS-eU9_ft",
        "outputId": "c320821c-f374-4feb-9a80-04fd32e33853"
      },
      "execution_count": 214,
      "outputs": [
        {
          "output_type": "execute_result",
          "data": {
            "text/plain": [
              "13374"
            ]
          },
          "metadata": {},
          "execution_count": 214
        }
      ]
    },
    {
      "cell_type": "code",
      "source": [
        "for p in parameters:\n",
        "  p.requires_grad = True"
      ],
      "metadata": {
        "id": "JM0vPN61-EAI"
      },
      "execution_count": 215,
      "outputs": []
    },
    {
      "cell_type": "code",
      "source": [
        "lre = torch.linspace(-3, 0, 1000)\n",
        "lrs = 10**lre"
      ],
      "metadata": {
        "id": "SpSS_00R-F0H"
      },
      "execution_count": 216,
      "outputs": []
    },
    {
      "cell_type": "code",
      "source": [
        "lri = []\n",
        "lossi = []\n",
        "stepi = []"
      ],
      "metadata": {
        "id": "b5itaxp5-G5V"
      },
      "execution_count": 217,
      "outputs": []
    },
    {
      "cell_type": "code",
      "source": [
        "for i in range(200000):\n",
        "\n",
        "  # minibatch construct\n",
        "  ix = torch.randint(0, Xtr.shape[0], (BATCH_SIZE,))\n",
        "\n",
        "  # forward pass\n",
        "  emb = C[Xtr[ix]] # (BATCH_SIZE2, 3, 2)\n",
        "  h = torch.tanh(emb.view(-1, 30) @ W1 + b1) # (BATCH_SIZE, 100)\n",
        "  logits = h @ W2 + b2 # (BATCH_SIZE, 27)\n",
        "  loss = F.cross_entropy(logits, Ytr[ix])\n",
        "  #print(loss.item())\n",
        "\n",
        "  # backward pass\n",
        "  for p in parameters:\n",
        "    p.grad = None\n",
        "  loss.backward()\n",
        "\n",
        "  # update\n",
        "  #lr = lrs[i]\n",
        "  lr = 0.1 if i < 100000 else 0.01\n",
        "  for p in parameters:\n",
        "    p.data += -lr * p.grad\n",
        "\n",
        "  # track stats\n",
        "  #lri.append(lre[i])\n",
        "  stepi.append(i)\n",
        "  lossi.append(loss.log10().item())\n",
        "\n",
        "#print(loss.item())"
      ],
      "metadata": {
        "id": "sy_WwHne-KGT"
      },
      "execution_count": 218,
      "outputs": []
    },
    {
      "cell_type": "code",
      "source": [
        "plt.plot(stepi, lossi)"
      ],
      "metadata": {
        "colab": {
          "base_uri": "https://localhost:8080/",
          "height": 447
        },
        "id": "a_zqC8Zv-L3G",
        "outputId": "2e8d13d2-2e44-416e-b8f3-0193fe05283a"
      },
      "execution_count": 219,
      "outputs": [
        {
          "output_type": "execute_result",
          "data": {
            "text/plain": [
              "[<matplotlib.lines.Line2D at 0x7c9c0d8c6aa0>]"
            ]
          },
          "metadata": {},
          "execution_count": 219
        },
        {
          "output_type": "display_data",
          "data": {
            "text/plain": [
              "<Figure size 640x480 with 1 Axes>"
            ],
            "image/png": "[encoded data removed]"
          },
          "metadata": {}
        }
      ]
    },
    {
      "cell_type": "code",
      "source": [
        "# training loss\n",
        "emb = C[Xtr] # (32, 3, 2)\n",
        "h = torch.tanh(emb.view(-1, 30) @ W1 + b1) # (32, 100)\n",
        "logits = h @ W2 + b2 # (32, 27)\n",
        "loss = F.cross_entropy(logits, Ytr)\n",
        "loss"
      ],
      "metadata": {
        "colab": {
          "base_uri": "https://localhost:8080/"
        },
        "id": "qJ2I5r_0A7-N",
        "outputId": "6d087fee-be00-479d-88ae-4a14b82bc2c5"
      },
      "execution_count": 220,
      "outputs": [
        {
          "output_type": "execute_result",
          "data": {
            "text/plain": [
              "tensor(1.5616, grad_fn=<NllLossBackward0>)"
            ]
          },
          "metadata": {},
          "execution_count": 220
        }
      ]
    },
    {
      "cell_type": "code",
      "source": [
        "# validation loss\n",
        "emb = C[Xdev] # (32, 3, 2)\n",
        "h = torch.tanh(emb.view(-1, 30) @ W1 + b1) # (32, 100)\n",
        "logits = h @ W2 + b2 # (32, 27)\n",
        "loss = F.cross_entropy(logits, Ydev)\n",
        "loss"
      ],
      "metadata": {
        "colab": {
          "base_uri": "https://localhost:8080/"
        },
        "id": "tt3lTEhlA_oe",
        "outputId": "e0fb661f-cdc9-4480-c393-3a34c4144ead"
      },
      "execution_count": 221,
      "outputs": [
        {
          "output_type": "execute_result",
          "data": {
            "text/plain": [
              "tensor(2.4367, grad_fn=<NllLossBackward0>)"
            ]
          },
          "metadata": {},
          "execution_count": 221
        }
      ]
    },
    {
      "cell_type": "code",
      "source": [
        "# test loss\n",
        "emb = C[Xte] # (32, 3, 2)\n",
        "h = torch.tanh(emb.view(-1, 30) @ W1 + b1) # (32, 100)\n",
        "logits = h @ W2 + b2 # (32, 27)\n",
        "loss = F.cross_entropy(logits, Yte)\n",
        "loss"
      ],
      "metadata": {
        "colab": {
          "base_uri": "https://localhost:8080/"
        },
        "id": "WEhqMIigBCyB",
        "outputId": "2c257880-64b9-43df-f02c-2443c686cc79"
      },
      "execution_count": 222,
      "outputs": [
        {
          "output_type": "execute_result",
          "data": {
            "text/plain": [
              "tensor(2.4437, grad_fn=<NllLossBackward0>)"
            ]
          },
          "metadata": {},
          "execution_count": 222
        }
      ]
    },
    {
      "cell_type": "code",
      "source": [
        "# sample from the model\n",
        "g = torch.Generator()#.manual_seed(2147483647 + 10)\n",
        "\n",
        "for _ in range(20):\n",
        "\n",
        "    out = []\n",
        "    context = [0] * block_size # initialize with all ...\n",
        "    while True:\n",
        "      emb = C[torch.tensor([context])] # (1,block_size,d)\n",
        "      h = torch.tanh(emb.view(1, -1) @ W1 + b1)\n",
        "      logits = h @ W2 + b2\n",
        "      probs = F.softmax(logits, dim=1)\n",
        "      ix = torch.multinomial(probs, num_samples=1, generator=g).item()\n",
        "      context = context[1:] + [ix]\n",
        "      out.append(ix)\n",
        "      if ix == 0:\n",
        "        break\n",
        "\n",
        "    print(''.join(itos[i] for i in out))"
      ],
      "metadata": {
        "colab": {
          "base_uri": "https://localhost:8080/"
        },
        "id": "nkFPb-jmBKRF",
        "outputId": "8ae6bf4e-45b3-485c-a323-115dc5553d80"
      },
      "execution_count": 223,
      "outputs": [
        {
          "output_type": "stream",
          "name": "stdout",
          "text": [
            "CYNTHIA.\n",
            "FLOREN.\n",
            "PALA.\n",
            "LUDWA.\n",
            "YEVHENARA.\n",
            "MELITASCELICA.\n",
            "JANA.\n",
            "LOREN.\n",
            "ABI.\n",
            "FLORENTI.\n",
            "ARLOTTANISŁAWA.\n",
            "KEDBREN.\n",
            "EVE.\n",
            "AMALI.\n",
            "MEGINA.\n",
            "INGRID.\n",
            "VALICA.\n",
            "ELFIRAPTUNA.\n",
            "PRAKSUNICA.\n",
            "AMBRIGITTA.\n"
          ]
        }
      ]
    }
  ]
}